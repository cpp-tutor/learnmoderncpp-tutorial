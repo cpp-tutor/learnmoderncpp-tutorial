{
 "cells": [
  {
   "cell_type": "markdown",
   "id": "396500d0",
   "metadata": {},
   "source": [
    "# Conditions and Operators\n",
    "\n",
    "## Run-time user input\n",
    "\n",
    "The programs we have seen in the previous two chapters have been a little predictable in how they run, as they have a *linear execution path* through the `main()` function. Such simple programs have very little practical use. More complex programs, which alter their *control flow* based on *user input* fall into two types:\n",
    "\n",
    "* *Batch programs* take all of their input at the beginning of their execution, usually from any or all of: program parameters, an environment variable(s), or an input file.\n",
    "\n",
    "* *Interactive programs* enact a dialog with the *user* (the computer operator) while the program is executing. This dialog is often two-way as the user is not necessarily expected to know what input is required without being prompted.\n",
    "\n",
    "Interactive programs often use either a console or a *GUI* (Graphical User Interface, historically found on desktop computers, but more often found these days on tablets and smartphones). Interactive console programs often produce output to the console *interleaved* with user input, while batch programs ususally know all of their input at the beginning of their execution and produce all of their output following this with no further user involvement or action. As an example of a modern alternative, a purely voice-activated device (possibly without a screen) has an interface which interestingly has more in common with an interactive console program than with a GUI application.\n",
    "\n",
    "Previously we have enountered `print()` and `println()` for putting formatted output to the console. Interestingly, there is currently no direct equivalent in Modern C++ for reading input. The `getline()` functions are not covered until Chapter 7, and as might be guessed from the name read a textual string which must then be processed further in order to obtain a valid value for numerical (or similar) input. For reasons of simplicity, this Chapter only covers the use of *stream objects* for reading from and writing to the console, and use if these requires the `<iostream>` header.\n",
    "\n",
    "As a quick introduction to the stream output object `cout` (an abbreviation of \"Character Output\"), string literals, character literals, numeric (and other) values and variables are \"put to\" the console using (possibly multiple) occurrencies of `<<` (the *stream insertion operator*). There is no format string as such, the output is created from the object to the right of each `<<`, in order from left to right. For example:"
   ]
  },
  {
   "cell_type": "code",
   "execution_count": null,
   "id": "0124b85c",
   "metadata": {},
   "outputs": [],
   "source": [
    "cout << \"The answer is: \" << 42 << '\\n';  // println(\"The answer is: {}\", 42);"
   ]
  },
  {
   "cell_type": "markdown",
   "id": "d6853143",
   "metadata": {},
   "source": [
    "As a complement to `cout`, the stream input object `cin` (an abbreviation of \"Character Input\") overloads `>>` (the *stream extraction operator*) to allow variables to be set from user input. When a `cin` input expression is reached, the program waits (indefinitely) for the user to type some input and press Enter. The following program outputs a message inviting the user to enter a number, and then prints this number out again on the console. Before `cin` is used, the variable to be used to accept the input into must have already been defined so that the type of the required input can be deduced. Providing an initial value is preferred (empty braces give it the default value, zero in this case) in case the read by `cin` fails due to either invalid input, such as the user typing letters where digits were required, or end-of-input (Ctrl-D, or Ctrl-Z under Windows):"
   ]
  },
  {
   "cell_type": "code",
   "execution_count": null,
   "id": "1cd669f6",
   "metadata": {},
   "outputs": [],
   "source": [
    "// 03-age1.cpp : get and then display an integer\n",
    "\n",
    "#include <iostream>\n",
    "using namespace std;\n",
    "\n",
    "int main() {\n",
    "    int alice_age{};\n",
    "    cout << \"Please enter your guess for Alice\\'s age: \";\n",
    "    cin >> alice_age;\n",
    "    cout << \"You guessed \" << alice_age << \"!\\n\";\n",
    "}"
   ]
  },
  {
   "cell_type": "markdown",
   "id": "7ee5ea65",
   "metadata": {},
   "source": [
    "Use of `cin` from the user's perspective has a few quirks. Perhaps usefully, whitespace (any spaces, tabs or preceding new-lines) is ignored, while perhaps not so usefully, non numerical input is (silently) evaluated to the number zero. Also, the program makes no checks on the range of the input, so numbers such as `200` and `-50` are accepted without complaint, and printed out. In fact, the variable `alice_age` can be set to any value that can be held by type `int`; however the number must (usually) be entered as a decimal; the prefixes for binary, octal and hexadecimal are by default only interpreted at compile-time for literals within program code, or by conversion functions such as `from_chars()`.\n",
    "\n",
    "## Conditions and if-else\n",
    "\n",
    "The keyword `if` is followed by a *conditional expression* in (mandatory) parentheses, which always evaluates to `true` or `false` at run-time (these named Boolean values are implicitly convertible both to and from integer `1` and `0` respectively). (To evaluate conditions at compile-time as well the construct `if constexpr` can be used; this is discussed later in this Chapter.) There are a number of symbols that are combined to represent mathematical conditions of equality, greater than, and so on. Some of these symbols together with their meanings are shown in the table below:\n",
    "\n",
    "| Symbol |        Meaning        |\n",
    "|:------:|:---------------------:|\n",
    "|   ==   |         equal *       |\n",
    "|   !=   |       not equal       |\n",
    "|    >   |      greater than     |\n",
    "|    <   |       less than       |\n",
    "|   >=   | greater than or equal |\n",
    "|   <=   |   less than or equal  |\n",
    "\n",
    "&#42; Note: different from the assignment operator, which is single equals `=` (confusing the two is a common mistake for new C++ programmers).\n",
    "\n",
    "Variables of any built-in type can be directly tested by an `if` expression; non-zero evaluates as `true` while zero evaluates to `false` (this is the case for both integer and floating-point types). The following program asks for an integer, and outputs `zero` or `nonzero` depending upon the value entered:"
   ]
  },
  {
   "cell_type": "code",
   "execution_count": null,
   "id": "fa7eb55a",
   "metadata": {},
   "outputs": [],
   "source": [
    "// 03-zerotest1.cpp : test an integer value against zero\n",
    "\n",
    "#include <iostream>\n",
    "using namespace std;\n",
    "\n",
    "int main() {\n",
    "    cout << \"Please enter an integer value: \";\n",
    "    int n{};\n",
    "    cin >> n;\n",
    "    cout << \"The value entered was \";\n",
    "    if (n) {\n",
    "        cout << \"nonzero\\n\";\n",
    "    }\n",
    "    else {\n",
    "        cout << \"zero\\n\";\n",
    "    }\n",
    "}"
   ]
  },
  {
   "cell_type": "markdown",
   "id": "a593d126",
   "metadata": {},
   "source": [
    "Notice that the scopes for both the `if` and `else` *clauses* are delimited with `{` and `}`, and that indentation is used for the `cout` operations within them. Notice also that the `if` and the `else` keywords line up vertically, this style is recommended in order to enable in-editor code folding to work, amongst other reasons. In this program the braces for the `if` and `else` clauses are in this case optional because they comprise only a single statement each, however using braces even where not strictly needed is again strongly recommended in case extra code needs to be added to the clauses later (and because code folding often only works in editors where an opening brace exists).\n",
    "\n",
    "Note: Braces for function **definitions**, including `main()`, are always mandatory, even in the case of single-statement or empty functions. Function **declarations**, by contrast, do not have braces; they are analogous to a C++ **statement** ending with a semi-colon.\n",
    "\n",
    "**Experiment**\n",
    "\n",
    "* What happens if you press Ctrl-D (Ctrl-Z then Enter under Windows) when prompted? Can you explain why this is?\n",
    "\n",
    "* Change the program to test for non-zero using the \"not equal\" operator and a `0`. Does this work in the same way?\n",
    "\n",
    "* Change the program again to test for \"equals\" zero (as opposed to \"not equal\"), and change the output statements appropriately so the same logic remains. Is this program better? Consider whether the *happy path* should be satisfied by the first \"if\" clause (as opposed to \"else\").\n",
    "\n",
    "* Now alter the original program to test a floating-point (`double`) variable as being zero or non-zero. Do you consider use of `0.0` as being better style?\n",
    "\n",
    "* Delete the braces surrounding the `if` and `else` clauses. Does the code still compile? What happens if you add a second statement line to the `else` clause? Or the `if` clause?\n",
    "\n",
    "The `if` statement is a binary choice, however some decisions require more than two options. To enable this, `if` statements can be *chained* together. The following program chains a further `if` onto the tail of the first `else` clause. Note that in this special case, using braces for the first `else` clause is **not** recommended as this would indent the code. The combination `else if` (with mandatory space) is unambiguous to readers of your code; a second statement to the first `else` clause (which would necessitate braces) is unlikely to be needed as the (possibly itself chained) `if` which follows counts as a single statement."
   ]
  },
  {
   "cell_type": "code",
   "execution_count": null,
   "id": "b272195f",
   "metadata": {},
   "outputs": [],
   "source": [
    "// 03-signtest.cpp : test an integer value for zero, positive or negative\n",
    "\n",
    "#include <iostream>\n",
    "using namespace std;\n",
    "\n",
    "int main() {\n",
    "    cout << \"Please enter an integer value: \";\n",
    "    int n{};\n",
    "    cin >> n;\n",
    "    cout << \"The value entered was \";\n",
    "    if (!n) {\n",
    "        cout << \"zero\\n\";\n",
    "    }\n",
    "    else if (n < 0) {\n",
    "        cout << \"negative\\n\";\n",
    "    }\n",
    "    else {\n",
    "        cout << \"positive\\n\";\n",
    "    }\n",
    "}"
   ]
  },
  {
   "cell_type": "markdown",
   "id": "3e346150",
   "metadata": {},
   "source": [
    "Notice that the conditional test `if (!n)` **reverses** the logic of the previous program, that is it tests `n` agains zero and then inverts the previous result, producing `true` for zero and `false` for non-zero. We could have used `if (n == 0)` to get the same result, however the idiom of testing `!n` is preferred as it also works with objects such as `std::ofstream`, leading to consistent syntax.\n",
    "\n",
    "Also, notice that the final `else` clause catches everything that reached that point, without performing a further test. It is up to the programmer to ensure that by the time control flow reaches here all other possibilities have been tested for (failure to do so is a *semantic*, or logic error, which can't usually be caught by the compiler).\n",
    "\n",
    "**Experiment**\n",
    "\n",
    "* Modify the above program by removing the `else` clauses and make it instead perform three different `if` tests. Consider why this is usually seen to be poor style.\n",
    "\n",
    "From Mathematics you will be familiar with equality conditions such as 0 ≤ *x* < 10 specifying that the variable *x* is between zero (inclusive) and 10 (exclusive). It is not possible to write such conditions directly in C++ as conditional tests are non-associative, however a close approximation usually can be found by combining condition tests with the keywords `and` and `or` (which operate the same way as `&&` and `||`, which are historically called *logical and* and *logical or*). The following is a variation on a previous program which asks the user to guess an age, and says whether or not it is a good guess:"
   ]
  },
  {
   "cell_type": "code",
   "execution_count": null,
   "id": "b888511e",
   "metadata": {},
   "outputs": [],
   "source": [
    "// 03-age2.cpp : get and then test an integer is within range\n",
    "\n",
    "#include <iostream>\n",
    "using namespace std;\n",
    "\n",
    "int main() {\n",
    "    int alice_age{};\n",
    "    cout << \"Please enter your guess for Alice\\'s age: \";\n",
    "    cin >> alice_age;\n",
    "    if (6 <= alice_age and alice_age <= 11) {\n",
    "        cout << \"A good guess!\\n\";\n",
    "    }\n",
    "    else {\n",
    "        cout << \"Not a good guess.\\n\";\n",
    "    }\n",
    "}"
   ]
  },
  {
   "cell_type": "markdown",
   "id": "0ff1bb34",
   "metadata": {},
   "source": [
    "**Experiment**\n",
    "\n",
    "* Change the above program so that the test logic is inverted, while the output remains the same; in other words `alice_age` falling outside the range 6-11 results in a positive condition test. Hint: you will need to use the `or` keyword and change the order of the output statements.\n",
    "\n",
    "* Now change `and` to `&&` in the original program. Does it still compile and run? Which style do you prefer?\n",
    "\n",
    "* Now change `or` to `||` in the modified program. (Known as the *pipe* symbol, this is often Shift+Backslash on the keyboard.) Does it compile and run as expected?\n",
    "\n",
    "## Conditions and switch-case\n",
    "\n",
    "When a test for more than one constant integer value is required, a switch-case block can be employed. The *switch expression* follows the `switch` statement and is enclosed in (again mandatory) parentheses and must evaluate to a built-in integral type (that is, between `char` and `long long` in size, possibly with the `unsigned` qualifier). The possible values to test for are listed in a set of `case` statements that fall within the switch scope, delimited as usual by braces. This example program shows a simple desktop calculator with four arithmetic functions:"
   ]
  },
  {
   "cell_type": "code",
   "execution_count": null,
   "id": "aaf6383c",
   "metadata": {},
   "outputs": [],
   "source": [
    "// 03-calc.cpp : simple calculator with four functions\n",
    "\n",
    "#include <iostream>\n",
    "using namespace std;\n",
    "\n",
    "int main() {\n",
    "    int r{}, x{}, y{};\n",
    "    char op{};\n",
    "    cout << \"Please enter a calculation (number op number, op is one of +-*/):\\n\";\n",
    "    cin >> x >> op >> y;\n",
    "    switch (op) {\n",
    "    case '+':\n",
    "        r = x + y;\n",
    "        break;\n",
    "    case '-':\n",
    "        r = x - y;\n",
    "        break;\n",
    "    case '*':\n",
    "        r = x * y;\n",
    "        break;\n",
    "    case '/':\n",
    "        if (y) {\n",
    "            r = x / y;\n",
    "        }\n",
    "        else {\n",
    "            cerr << \"Error: divide by zero.\\n\";\n",
    "        }\n",
    "        break;\n",
    "    default:\n",
    "        cerr << \"Error: invalid op.\\n\";\n",
    "        break;\n",
    "    }\n",
    "    cout << \"Result: \" << r << '\\n';\n",
    "}"
   ]
  },
  {
   "cell_type": "markdown",
   "id": "b969bdca",
   "metadata": {},
   "source": [
    "Notice that \"getting\" multiple variables from `cin` allows for the input of three values together, optionally separated by whitespace or newlines. This permissiveness can be useful in some cases but doesn't handle erroneous input very well so is often unsuitable to be used in production code (as error recovery involves clearing the error state, possibly losing input in the process). The four `case` statements each check for a valid integer (actually a character literal) stored in `op` and program flow jumps to the one that matches, if any. The `break` statements are necessary and cause control flow to jump to the closing brace of the switch block; if they were not present flow would *fall through* to the next `case` statement, which is rarely desirable. The `default` case statement is optional but usually desirable, and program flow always continues here if none of the `case` statements match; if it is not present the compiler will often produce a warning.\n",
    "\n",
    "Notice also the use of `cerr` to output error messages to the *standard error stream*; by default `cerr` echoes to the terminal (the same as for `cout`) but this output can be redirected at run-time to a text file (or a null device). The `if` test for zero divisor should be familiar syntax by now and prevents a possible floating-point exception. In this case, and in the case of an error caused by an invalid operator, the result variable `r` contains the default value zero.\n",
    "\n",
    "**Experiment**\n",
    "\n",
    "* Change the type of the input and result variables to `double` and make sure the program still compiles and runs correctly.\n",
    "\n",
    "* Add a `case` clause for the exponentiation operator `'^'` which calls the function `pow(x,y)` (C++ has no built-in exponentiation operator, `^` in code actually means bitwise exclusive-or). Hint: you will need `#include <cmath>` and possibly also `-lm` on the link path.\n",
    "\n",
    "* Go back to using `int` variables and add the modulo operator `%` to the list of valid operators. You will need to add a suitable `case` clause. Note: this operation gives the remainder from a division, so divide-by-zero needs to be caught here as well.\n",
    "\n",
    "* Rewrite the case values as plain decimal integers, obtained from a table showing ASCII characters against their numbers. Then try using hexadecimal values, and then octal values.\n",
    "\n",
    "* Rewrite the whole switch-case block as multiple if-else-if... statements. Test all control-flow paths.\n",
    "\n",
    "The need for `break` statements at the end of each `case` clause has already been mentioned, however occasionally the behavior of program flow falling through to the next case can be useful. More often, multiple `case` matches using the same code is the desired behavior. The following program demonstrates the former of these:"
   ]
  },
  {
   "cell_type": "code",
   "execution_count": null,
   "id": "4f7e4c1e",
   "metadata": {},
   "outputs": [],
   "source": [
    "// 03-fallthrough.cpp : demonstrate case clauses without break\n",
    "\n",
    "#include <iostream>\n",
    "using namespace std;\n",
    "\n",
    "int main() {\n",
    "    cout << \"Please enter an integer between zero and three:\\n\";\n",
    "    int n{};\n",
    "    cin >> n;\n",
    "    switch (n) {\n",
    "    case 0:\n",
    "        cout << \"Number is less than 1\\n\";\n",
    "        [[fallthrough]];\n",
    "    case 1:\n",
    "        cout << \"Number is less than 2\\n\";\n",
    "        [[fallthrough]];\n",
    "    case 2:\n",
    "        cout << \"Number is less than 3\\n\";\n",
    "        break;\n",
    "    case 3:\n",
    "        cout << \"Number is exactly 3\\n\";\n",
    "        break;\n",
    "    default:\n",
    "        cout << \"Number out of range!\\n\";\n",
    "        break;\n",
    "    }\n",
    "}"
   ]
  },
  {
   "cell_type": "markdown",
   "id": "7b3cae96",
   "metadata": {},
   "source": [
    "Notice that `case 1:` \"falls through\" into `case 2:`, and `case 0:` falls through into both of these. Some compilers will warn where `break` is missing from a `case` clause as it is a common programming mistake; this warning can be suppressed by writing `[[fallthrough]]` (this is a C++ *attribute*) where the compiler is expecting to find `break` (immediately before the next `case`). Using this attribute in the way shown here provides clarity to both human reader and compiler; it is not necessary where `case` statements follow on immediately with no code between.\n",
    "\n",
    "**Experiment:**\n",
    "\n",
    "* See if you can correctly predict the output of this program with user input of `0` through `3`.\n",
    "\n",
    "* Remove the attributes and try to compile this program. See if your compiler gives a warning; if not, try to enable a warning flag in your compiler options.\n",
    "\n",
    "## Conditional expressions\n",
    "\n",
    "The need to choose between two values based on a condition test is so common that C++ has a built-in operator to do exactly that. Consider the following condition test:"
   ]
  },
  {
   "cell_type": "code",
   "execution_count": null,
   "id": "c1eccf4c",
   "metadata": {},
   "outputs": [],
   "source": [
    "if (condition) {\n",
    "    value = first;\n",
    "}\n",
    "else {\n",
    "    value = second;\n",
    "}"
   ]
  },
  {
   "cell_type": "markdown",
   "id": "04cb53bd",
   "metadata": {},
   "source": [
    "The pseudocode shown here is indentical in meaning to the following *conditional expression*:"
   ]
  },
  {
   "cell_type": "code",
   "execution_count": null,
   "id": "59403b54",
   "metadata": {},
   "outputs": [],
   "source": [
    "value = (condition) ? first : second;"
   ]
  },
  {
   "cell_type": "markdown",
   "id": "ccfcb4b7",
   "metadata": {},
   "source": [
    "The parentheses around the condition in the conditional expression are in fact optional, because the *ternary operator* `?:` has lower precedence than the (in-)equality tests, however they are often included to aid code readability. Using `if` generates code which is in most cases equally efficient but sometimes a conditional expression is preferred style. Note that `first` and `second` need to be of the same type, or convertible to the same common type, as the type of the entity assigned to `value` needs to be determined at compile-time.\n",
    "\n",
    "The program below is identical to `03-zerotest1.cpp` in operation except that it has been written using the ternary operator:"
   ]
  },
  {
   "cell_type": "code",
   "execution_count": null,
   "id": "fbc01288",
   "metadata": {},
   "outputs": [],
   "source": [
    "// 03-zerotest2.cpp : test an integer value against zero and use conditional expression\n",
    "\n",
    "#include <iostream>\n",
    "using namespace std;\n",
    "\n",
    "int main() {\n",
    "    cout << \"Please enter an integer value: \";\n",
    "    int n{};\n",
    "    cin >> n;\n",
    "    cout << \"The value entered was \" << ( (n) ? \"nonzero\\n\" : \"zero\\n\" );\n",
    "}"
   ]
  },
  {
   "cell_type": "markdown",
   "id": "fb8990db",
   "metadata": {},
   "source": [
    "Note: the parentheses around the **whole** conditional expression **are** needed as `<<` has a higher precedence than `?:`.\n",
    "\n",
    "**Experiment**\n",
    "\n",
    "* Modify this program to remove the code duplication `\"zero\\n\"`.\n",
    "\n",
    "* Change the program to use two **nested** conditional expressions and produce the same output as `03-signtest.cpp` (this is quite tricky to get right).\n",
    "\n",
    "## If and switch initializer expressions\n",
    "\n",
    "An extension to the `if` and `switch` conditional expression syntax is to precede the conditional expression with an initializer and a semi-colon. In fact this is quite flexible, just about any legal C++ expression can be used. The scope of a variable defined in such an initializer has the scope of both the `if` **and** `else` clauses (if present) for an `if` statement, and the `switch` body when used with a `switch` statement.\n",
    "\n",
    "The following example defines a variable within an `if` statement:"
   ]
  },
  {
   "cell_type": "code",
   "execution_count": null,
   "id": "9692888a",
   "metadata": {},
   "outputs": [],
   "source": [
    "// 03-ifinitializer.cpp : use of variable initializer in if statement\n",
    "\n",
    "#include <iostream>\n",
    "using namespace std;\n",
    "\n",
    "int main() {\n",
    "    cout << \"Please enter a positive number:\\n\";\n",
    "    unsigned n{};\n",
    "    cin >> n;\n",
    "    cout << \"The least significant digit was \";\n",
    "    if (auto m = n % 10; m < 5) {\n",
    "        cout << \"less than five (\" << m << \")\\n\";\n",
    "    }\n",
    "    else {\n",
    "        cout << \"five or more (\" << m << \")\\n\";\n",
    "    }\n",
    "}"
   ]
  },
  {
   "cell_type": "markdown",
   "id": "2b1f73de",
   "metadata": {},
   "source": [
    "The variable defined in the initializer can optionally be used in the condition test, as shown here.\n",
    "\n",
    "**Experiment**\n",
    "\n",
    "* Try to use `n` and `m` after the closing brace of the `else` clause. Which, if either, is possible? What does this tell you about the scope of an initializer-defined variable?\n",
    "\n",
    "* Rewrite this program to use a `switch` statement instead of `if`. The new program should correctly handle all inputs and produce identical output to the one shown. Hint: you may want to use `case` statements which fall through.\n",
    "\n",
    "## Constexpr if\n",
    "\n",
    "The conditional expression following an `if` statement is evaluated at run-time. However, if the values and entities within the conditional expression are `constexpr` (see the previous article) then the if clause can be made to execute at compile-time, meaning that control flow at run-time is both known and fixed (and hence optimizations can be made)."
   ]
  },
  {
   "cell_type": "code",
   "execution_count": null,
   "id": "d27cbce4",
   "metadata": {},
   "outputs": [],
   "source": [
    "// 03-ifconstexpr.cpp : demonstrate compile-time if\n",
    "\n",
    "#include <iostream>\n",
    "using namespace std;\n",
    "\n",
    "int main() {\n",
    "    constexpr auto int_size = sizeof(int);\n",
    "    if constexpr (int_size == 4) {\n",
    "        cout << \"32 bit ints\\n\";\n",
    "    }\n",
    "    else if constexpr (int_size == 8) {\n",
    "        cout << \"64 bit ints\\n\";\n",
    "    }\n",
    "    else {\n",
    "        cout << \"Man, you have weird ints!\\n\";\n",
    "    }\n",
    "}"
   ]
  },
  {
   "cell_type": "markdown",
   "id": "66c7af46",
   "metadata": {},
   "source": [
    "Testing this program in the online Compiler Explorer results in only one of the three string literals actually being embedded in the assembly language output, therefore proving that it is a compile-time evaluation. The ability to perform an if-test at compile-time, as well as assign from `constexpr`-returning function calls, means that the `constexpr` functionality of C++ is in fact *Turing Complete*. It also allows floating-point numbers and even some user-defined types (with `constexpr` constructors) as well as Standard Library types to be used and evaluated at compile-time.\n",
    "\n",
    "**Experiment**\n",
    "\n",
    "* Rewrite the program testing &pi; from the previous Chapter to use `if constexpr` instead of `static_assert()`\n",
    "\n",
    "## Operator precedence\n",
    "\n",
    "C++ has quite a lot of operators, many of which are inherited from C and operate on the built-in types in exactly the same ways. Some are unary (operate on one value) while others are binary (operate on two values). Unary operators exist which are prefix (written before the object) or postfix (written after the object) and two (`++` and `--`) are both. Binary operators are exclusively infix (written between the two objects they operate on). There is also exactly one ternary operator (which we have seen in this Chapter, the conditional operator), which operates on three values. Some operators are left-to-right associative and others are right-to-left associative, except for the scope resolution operator and comparison operators which are non-associative.\n",
    "\n",
    "The table below is intended to be a complete list, and as such introduces operators not previously covered; the highest precedence operators are listed first:\n",
    "\n",
    "| Operator                                                                                                                                                                     | Associativity | Description                                                                                                                                                                                                                                                                                                                                                                                                                       | Pattern                                                                                                                                                                                                                                                                                                                                                                                                                                                                                        |\n",
    "|------------------------------------------------------------------------------------------------------------------------------------------------------------------------------|---------------|-----------------------------------------------------------------------------------------------------------------------------------------------------------------------------------------------------------------------------------------------------------------------------------------------------------------------------------------------------------------------------------------------------------------------------------|------------------------------------------------------------------------------------------------------------------------------------------------------------------------------------------------------------------------------------------------------------------------------------------------------------------------------------------------------------------------------------------------------------------------------------------------------------------------------------------------|\n",
    "| ::<br> ::                                                                                                                                                                    | n/a           | global scope (unary)<br> namespace/class scope (binary)                                                                                                                                                                                                                                                                                                                                                                           | ::name<br> namespace_name::entity, class_name::member_name                                                                                                                                                                                                                                                                                                                                                                                                                                     |\n",
    "| ()<br> ()<br> ()<br> {}<br> type()<br> type{}<br> []<br> .<br> -><br> ++<br> \\-\\-<br> typeid<br> any_cast<br> const_cast<br> dynamic_cast<br> reinterpret_cast<br> static_cast | left to right | parentheses<br> function call<br> initialization<br> uniform initialization<br> function-style cast<br> function-style cast<br> array subscript<br> object member access<br> pointer to object member access<br> post-increment<br> post-decrement<br> run-time type information (RTTI)<br> cast back to type from any<br> cast away const<br> run-time hierarchical down-cast<br> cast pointers and integers<br>type-checked cast | (expression)<br> function_name(parameters)<br> type_name(expression)<br> type_name(expression)<br> new_type(expression)<br> new_type{expression}<br> pointer[expression]<br> object.member_name<br> pointer_to_object->member_name<br> lvalue++<br> lvalue\\-\\-<br> typeid(type) or typeid(expression)<br> any_cast&lt;type>(expression)<br> const_cast&lt;type>(expression)<br> dynamic_cast&lt;type>(expression)<br> reinterpret_cast&lt;type>(expression)<br> static_cast&lt;type>(expression) |\n",
    "| +<br> -<br> ++<br> \\-\\-<br> !, not<br> ~, compl<br> (type)<br> sizeof<br> &<br> *<br> new<br> new[]<br> delete<br> delete[]<br>                                                            | right to left | unary plus<br> unary minus<br> pre-increment<br> pre-decrement<br> logical not<br> bitwise not<br> C-style cast<br> size in bytes<br> address of<br> dereference<br> dynamic heap memory allocation<br> dynamic array allocation<br> dynamic heap memory release<br> dynamic array release<br>                                                                                                                                    | +expression<br> -expression<br> ++lvalue<br> --lvalue<br> !expression<br> ~expression<br> (new_type)expression<br> sizeof(type) or sizeof(expression)<br> &lvalue<br> *pointer_expression<br> new type<br> new type[expression]<br> delete pointer<br> delete[] pointer                                                                                                                                                                                                                        |\n",
    "| ->* <br> .*                                                                                                                                                                  | left to right | member pointer selector<br> member object selector                                                                                                                                                                                                                                                                                                                                                                                | object_pointer->*pointer_to_member<br> object.*pointer_to_member                                                                                                                                                                                                                                                                                                                                                                                                                               |\n",
    "| *<br> /<br> %                                                                                                                                                                | left to right | multiplication<br> division<br> modulo (remainder from division)<br>                                                                                                                                                                                                                                                                                                                                                              | expression * expression<br> expression / expression<br> expression % expression                                                                                                                                                                                                                                                                                                                                                                                                                |\n",
    "| +<br> -                                                                                                                                                                      | left to right | addition<br> subtraction                                                                                                                                                                                                                                                                                                                                                                                                          | expression + expression<br> expression - expression                                                                                                                                                                                                                                                                                                                                                                                                                                            |\n",
    "| << <br> >>                                                                                                                                                                   | left to right | bitwise shift left<br> bitwise shift right                                                                                                                                                                                                                                                                                                                                                                                         | expression << expression<br> expression >> expression                                                                                                                                                                                                                                                                                                                                                                                                                                          |\n",
    "| < <br> <=<br> > <br> >=<br>                                                                                                                                                  | none          | comparison less than<br> comparison less than or equals<br> comparison greater than<br> comparison greater than or equals                                                                                                                                                                                                                                                                                                         | expression < expression<br> expression <= expression<br> expression > expression<br> expression >= expression                                                                                                                                                                                                                                                                                                                                                                                  |\n",
    "| ==<br> !=                                                                                                                                                                    | none          | test equality<br> test inequality                                                                                                                                                                                                                                                                                                                                                                                                 | expression == expression<br> expression != expression                                                                                                                                                                                                                                                                                                                                                                                                                                          |\n",
    "| &, bitand                                                                                                                                                                   | left to right | bitwise and                                                                                                                                                                                                                                                                                                                                                                                                                       | expression & expression                                                                                                                                                                                                                                                                                                                                                                                                                                                                        |\n",
    "| ^, bitxor                                                                                                                                                                   | left to right | bitwise exclusive-or                                                                                                                                                                                                                                                                                                                                                                                                              | expression ^ expression                                                                                                                                                                                                                                                                                                                                                                                                                                                                        |\n",
    "| \\|, bitor                                                                                                                                                                   | left to right | bitwise or                                                                                                                                                                                                                                                                                                                                                                                                                        | expression \\| expression                                                                                                                                                                                                                                                                                                                                                                                                                                                                        |\n",
    "| &&, and                                                                                                                                                                      | left to right | logical and                                                                                                                                                                                                                                                                                                                                                                                                                       | expression && expression                                                                                                                                                                                                                                                                                                                                                                                                                                                                       |\n",
    "| \\|\\|, or                                                                                                                                                                     | left to right | logical or                                                                                                                                                                                                                                                                                                                                                                                                                        | expression \\|\\| expression                                                                                                                                                                                                                                                                                                                                                                                                                                                                       |\n",
    "| ?:<br> =<br> *=<br> /=<br> %=<br> +=<br> -=<br> <<=<br> >>=<br> &=<br> \\|=<br> ^=                                                                                            | right to left | conditional ternary operator<br> assignment<br> multiplication assignment<br> division assignment<br> modulo assignment<br> addition assignment<br> subtraction assignment<br> bitwise shift left assignment<br> bitwise shift right assignment<br> bitwise and assignment<br> bitwise or assignment<br> bitwise exclusive-or assignment                                                                                          | expression ? expression : expression<br> lvalue = expression<br> lvalue *= expression<br> lvalue /= expression<br> lvalue %= expression<br> lvalue += expression<br> lvalue -= expression<br> lvalue <<= expression<br> lvalue >>= expression<br> lvalue &= expression<br> lvalue \\|= expression<br> lvalue ^= expression                                                                                                                                                                      |\n",
    "| throw                                                                                                                                                                        | right to left | exception throw expression                                                                                                                                                                                                                                                                                                                                                                                                        | throw expression                                                                                                                                                                                                                                                                                                                                                                                                                                                                               |\n",
    "| ,                                                                                                                                                                            | left to right | comma sequencing operator                                                                                                                                                                                                                                                                                                                                                                                                         | expression, expression                                                                                                                                                                                                                                                                                                                                                                                                                                                                         |\n",
    "\n",
    "*All text and program code &copy;2019-2025 Richard Spencer, all rights reserved.*"
   ]
  }
 ],
 "metadata": {
  "jupytext": {
   "cell_metadata_filter": "-all"
  },
  "kernelspec": {
   "display_name": "C++ 23",
   "language": "c++",
   "name": "cpp23"
  }
 },
 "nbformat": 4,
 "nbformat_minor": 5
}
